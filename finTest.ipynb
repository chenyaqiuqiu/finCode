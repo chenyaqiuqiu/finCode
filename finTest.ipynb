{
 "cells": [
  {
   "cell_type": "code",
   "execution_count": 2,
   "id": "a034f29d-5245-451d-8e3d-783c1aace8f2",
   "metadata": {},
   "outputs": [
    {
     "name": "stdout",
     "output_type": "stream",
     "text": [
      "\u001b[0;30m2024-08-08 11:07:29,423 | 5490 | [open_context_base.py] _send_init_connect_sync:311: InitConnect ok: conn_id=15, host=127.0.0.1, port=10030, user_id=30290665\u001b[0m\n",
      "0    HK.00700\n",
      "1    HK.03988\n",
      "Name: code, dtype: object\n",
      "['00700', '03988']\n",
      "\u001b[0;30m2024-08-08 11:07:29,443 | 5490 | [open_context_base.py] on_disconnect:383: Disconnected: conn_id=15\u001b[0m\n"
     ]
    },
    {
     "name": "stderr",
     "output_type": "stream",
     "text": [
      "[*********************100%%**********************]  2 of 2 completed\n",
      "\n",
      "2 Failed downloads:\n",
      "['00700', '03988']: YFTzMissingError('$%ticker%: possibly delisted; No timezone found')\n"
     ]
    },
    {
     "name": "stdout",
     "output_type": "stream",
     "text": [
      "Empty DataFrame\n",
      "Columns: [(Open, 00700), (Open, 03988), (High, 00700), (High, 03988), (Low, 00700), (Low, 03988), (Close, 00700), (Close, 03988)]\n",
      "Index: []\n"
     ]
    },
    {
     "ename": "TypeError",
     "evalue": "Argument 'real' has incorrect type (expected numpy.ndarray, got DataFrame)",
     "output_type": "error",
     "traceback": [
      "\u001b[0;31m---------------------------------------------------------------------------\u001b[0m",
      "\u001b[0;31mTypeError\u001b[0m                                 Traceback (most recent call last)",
      "Cell \u001b[0;32mIn[2], line 61\u001b[0m\n\u001b[1;32m     57\u001b[0m \u001b[38;5;28mprint\u001b[39m(data)\n\u001b[1;32m     58\u001b[0m \u001b[38;5;66;03m#macd = talib.MACD(data['Close'], fastperiod=6, slowperiod=12, signalperiod=29)\u001b[39;00m\n\u001b[1;32m     59\u001b[0m \u001b[38;5;66;03m#print(macd)\u001b[39;00m\n\u001b[0;32m---> 61\u001b[0m ma \u001b[38;5;241m=\u001b[39m \u001b[43mtalib\u001b[49m\u001b[38;5;241;43m.\u001b[39;49m\u001b[43mMA\u001b[49m\u001b[43m(\u001b[49m\u001b[43mdata\u001b[49m\u001b[43m[\u001b[49m\u001b[38;5;124;43m'\u001b[39;49m\u001b[38;5;124;43mClose\u001b[39;49m\u001b[38;5;124;43m'\u001b[39;49m\u001b[43m]\u001b[49m\u001b[43m,\u001b[49m\u001b[43m \u001b[49m\u001b[43mtimeperiod\u001b[49m\u001b[38;5;241;43m=\u001b[39;49m\u001b[38;5;241;43m10\u001b[39;49m\u001b[43m)\u001b[49m\n\u001b[1;32m     62\u001b[0m \u001b[38;5;28mprint\u001b[39m(ma)\n\u001b[1;32m     64\u001b[0m \u001b[38;5;66;03m#print(data['Open'].iloc[0])\u001b[39;00m\n\u001b[1;32m     65\u001b[0m \n\u001b[1;32m     66\u001b[0m \n\u001b[1;32m     67\u001b[0m \u001b[38;5;66;03m#data['Date'] = pd.to_datetime(data.index)\u001b[39;00m\n\u001b[1;32m     68\u001b[0m \u001b[38;5;66;03m#data.set_index(\"Date\", inplace=True)\u001b[39;00m\n\u001b[1;32m     69\u001b[0m \u001b[38;5;66;03m#mpf.plot(data, type=\"candle\", title=f\"{ticker}实时K线图\", ylabel=\"价格\", style=\"yahoo\")\u001b[39;00m\n",
      "File \u001b[0;32m~/miniconda3/lib/python3.11/site-packages/talib/__init__.py:64\u001b[0m, in \u001b[0;36m_wrapper.<locals>.wrapper\u001b[0;34m(*args, **kwds)\u001b[0m\n\u001b[1;32m     61\u001b[0m     _args \u001b[38;5;241m=\u001b[39m args\n\u001b[1;32m     62\u001b[0m     _kwds \u001b[38;5;241m=\u001b[39m kwds\n\u001b[0;32m---> 64\u001b[0m result \u001b[38;5;241m=\u001b[39m \u001b[43mfunc\u001b[49m\u001b[43m(\u001b[49m\u001b[38;5;241;43m*\u001b[39;49m\u001b[43m_args\u001b[49m\u001b[43m,\u001b[49m\u001b[43m \u001b[49m\u001b[38;5;241;43m*\u001b[39;49m\u001b[38;5;241;43m*\u001b[39;49m\u001b[43m_kwds\u001b[49m\u001b[43m)\u001b[49m\n\u001b[1;32m     66\u001b[0m \u001b[38;5;66;03m# check to see if we got a streaming result\u001b[39;00m\n\u001b[1;32m     67\u001b[0m first_result \u001b[38;5;241m=\u001b[39m result[\u001b[38;5;241m0\u001b[39m] \u001b[38;5;28;01mif\u001b[39;00m \u001b[38;5;28misinstance\u001b[39m(result, \u001b[38;5;28mtuple\u001b[39m) \u001b[38;5;28;01melse\u001b[39;00m result\n",
      "\u001b[0;31mTypeError\u001b[0m: Argument 'real' has incorrect type (expected numpy.ndarray, got DataFrame)"
     ]
    }
   ],
   "source": [
    "import math\n",
    "import numpy as np \n",
    "import pandas as pd\n",
    "import datetime\n",
    "import matplotlib.pyplot as plt\n",
    "import yfinance as yf\n",
    "import cvxopt as opt \n",
    "from cvxopt import blas, solvers\n",
    "import seaborn as sns \n",
    "from pandas.plotting import scatter_matrix\n",
    "\n",
    "import pandas as pd\n",
    "import datetime as dt\n",
    "import mplfinance as mpf\n",
    "from futu import *\n",
    "import talib\n",
    "\n",
    "%matplotlib inline\n",
    "\n",
    "# 从futu获取美股的持股列表；\n",
    "ticker = ''\n",
    "trd_ctx = OpenSecTradeContext(filter_trdmarket=TrdMarket.HK, host='127.0.0.1', port=10030, security_firm=SecurityFirm.FUTUSECURITIES)\n",
    "ret, data = trd_ctx.position_list_query(trd_env=TrdEnv.SIMULATE)\n",
    "if ret == RET_OK:\n",
    "    #print(data)\n",
    "    if data.shape[0] > 0:  # 如果持仓列表不为空\n",
    "        print(data['code'])  # 获取持仓第一个股票名称\n",
    "        scode = data['code'].str.split('.').str.get(1)\n",
    "        ticker = [str(obj) for obj in scode]\n",
    "        print(ticker)\n",
    "        #print(data['stock_name'].values.tolist())  # 转为 list\n",
    "else:\n",
    "    print('position_list_query error: ', data)\n",
    "trd_ctx.close()  # 关闭当条连接\n",
    "\n",
    "\n",
    "#ticker = ['NVDA', 'NVTS','ORCL','NFLX']\n",
    "\n",
    "def download_stock_data(ticker, start_date, end_date):\n",
    "    # 下载指定股票的历史数据\n",
    "    stock_data = yf.download(tickers=ticker, start=start_date, end=end_date)\n",
    "    \n",
    "    # 选择我们感兴趣的列\n",
    "    data = stock_data[['Open', 'High', 'Low', 'Close']]\n",
    "    \n",
    "    return data\n",
    " \n",
    "def save_to_csv(data, filename):\n",
    "    # 将数据保存到CSV文件\n",
    "    data.to_csv(filename)\n",
    " \n",
    "# 定义开始日期和结束日期\n",
    "end_date = dt.datetime.now()\n",
    "start_date = end_date - dt.timedelta(days=365)  # 回溯1year\n",
    "# 下载数据\n",
    "data = download_stock_data(ticker, start_date, end_date)\n",
    "print(data)\n",
    "#macd = talib.MACD(data['Close'], fastperiod=6, slowperiod=12, signalperiod=29)\n",
    "#print(macd)\n",
    "\n",
    "ma = talib.MA(data['Close'], timeperiod=10)\n",
    "print(ma)\n",
    "\n",
    "#print(data['Open'].iloc[0])\n",
    "\n",
    "\n",
    "#data['Date'] = pd.to_datetime(data.index)\n",
    "#data.set_index(\"Date\", inplace=True)\n",
    "#mpf.plot(data, type=\"candle\", title=f\"{ticker}实时K线图\", ylabel=\"价格\", style=\"yahoo\")\n",
    "\n"
   ]
  },
  {
   "cell_type": "code",
   "execution_count": null,
   "id": "54552e9f-7bac-4a64-902e-af852f44f3d2",
   "metadata": {},
   "outputs": [],
   "source": []
  }
 ],
 "metadata": {
  "kernelspec": {
   "display_name": "Python 3 (ipykernel)",
   "language": "python",
   "name": "python3"
  },
  "language_info": {
   "codemirror_mode": {
    "name": "ipython",
    "version": 3
   },
   "file_extension": ".py",
   "mimetype": "text/x-python",
   "name": "python",
   "nbconvert_exporter": "python",
   "pygments_lexer": "ipython3",
   "version": "3.11.5"
  }
 },
 "nbformat": 4,
 "nbformat_minor": 5
}
