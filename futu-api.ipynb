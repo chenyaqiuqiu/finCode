{
 "cells": [
  {
   "cell_type": "code",
   "execution_count": null,
   "id": "ab716e75-af26-48b0-9084-2e55cf13fffe",
   "metadata": {},
   "outputs": [],
   "source": []
  },
  {
   "cell_type": "code",
   "execution_count": 5,
   "id": "48815775-62d2-44a6-9062-f1dd49c05144",
   "metadata": {},
   "outputs": [
    {
     "name": "stdout",
     "output_type": "stream",
     "text": [
      "\u001b[0;30m2024-08-07 11:26:22,565 | 1175 | [open_context_base.py] _send_init_connect_sync:311: InitConnect ok: conn_id=5, host=127.0.0.1, port=10030, user_id=30290665\u001b[0m\n",
      "error: 无权限获取US.NVDA的行情，请检查美国市场股票行情权限\n",
      "All pages are finished!\n",
      "\u001b[0;30m2024-08-07 11:26:22,572 | 1175 | [open_context_base.py] on_disconnect:383: Disconnected: conn_id=5\u001b[0m\n"
     ]
    }
   ],
   "source": [
    "\n",
    "from futu import *\n",
    "quote_ctx = OpenQuoteContext(host='127.0.0.1', port=10030)\n",
    "ret, data, page_req_key = quote_ctx.request_history_kline('US.NVDA', start='2019-09-11', end='2019-09-18', max_count=5)  # 每页5个，请求第一页\n",
    "if ret == RET_OK:\n",
    "    print(data)\n",
    "    print(data['code'][0])    # 取第一条的股票代码\n",
    "    print(data['close'].values.tolist())   # 第一页收盘价转为 list\n",
    "else:\n",
    "    print('error:', data)\n",
    "while page_req_key != None:  # 请求后面的所有结果\n",
    "    print('*************************************')\n",
    "    ret, data, page_req_key = quote_ctx.request_history_kline('US.NVDA', start='2019-09-11', end='2019-09-18', max_count=5, page_req_key=page_req_key) # 请求翻页后的数据\n",
    "    if ret == RET_OK:\n",
    "        print(data)\n",
    "    else:\n",
    "        print('error:', data)\n",
    "print('All pages are finished!')\n",
    "quote_ctx.close() # 结束后记得关闭当条连接，防止连接条数用尽\n"
   ]
  },
  {
   "cell_type": "code",
   "execution_count": null,
   "id": "4a5202ae-3aa0-40ee-acb4-67f5fba0f8e5",
   "metadata": {},
   "outputs": [],
   "source": []
  }
 ],
 "metadata": {
  "kernelspec": {
   "display_name": "Python 3 (ipykernel)",
   "language": "python",
   "name": "python3"
  },
  "language_info": {
   "codemirror_mode": {
    "name": "ipython",
    "version": 3
   },
   "file_extension": ".py",
   "mimetype": "text/x-python",
   "name": "python",
   "nbconvert_exporter": "python",
   "pygments_lexer": "ipython3",
   "version": "3.11.5"
  }
 },
 "nbformat": 4,
 "nbformat_minor": 5
}
